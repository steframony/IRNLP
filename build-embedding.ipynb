{
 "cells": [
  {
   "cell_type": "markdown",
   "metadata": {},
   "source": [
    "# Costruzione emebdding del dataset matematico"
   ]
  },
  {
   "cell_type": "code",
   "execution_count": null,
   "metadata": {},
   "outputs": [],
   "source": [
    "import numpy as np\n",
    "import pandas as pd\n",
    "from sentence_transformers import SentenceTransformer"
   ]
  },
  {
   "cell_type": "code",
   "execution_count": null,
   "metadata": {
    "_cell_guid": "b1076dfc-b9ad-4769-8c92-a6c4dae69d19",
    "_uuid": "8f2839f25d086af736a60e9eeb907d3b93b6e0e5",
    "trusted": true
   },
   "outputs": [],
   "source": [
    "ds = pd.read_parquet(\"/kaggle/input/dataset-math/dataset_math.parquet\")\n",
    "ds.info()"
   ]
  },
  {
   "cell_type": "code",
   "execution_count": null,
   "metadata": {
    "trusted": true
   },
   "outputs": [],
   "source": [
    "model = SentenceTransformer('sentence-transformers/all-MiniLM-L6-v2')"
   ]
  },
  {
   "cell_type": "code",
   "execution_count": null,
   "metadata": {
    "trusted": true
   },
   "outputs": [],
   "source": [
    "# Funzione per suddividere il testo in finestre di 256 parole con una finestra scorrevole\n",
    "def sliding_window(text, max_length=256, overlap=50):\n",
    "    words = text.split()\n",
    "    chunks = []\n",
    "    for i in range(0, len(words), max_length - overlap):\n",
    "        chunk = \" \".join(words[i:i + max_length])\n",
    "        chunks.append(chunk)\n",
    "    return chunks\n",
    "\n",
    "# Funzione per calcolare gli embeddings aggregati\n",
    "def get_aggregated_embeddings(text, model):\n",
    "    chunks = sliding_window(text)\n",
    "    embeddings = [model.encode(chunk) for chunk in chunks]\n",
    "    aggregated_embedding = np.mean(embeddings, axis=0)\n",
    "    return aggregated_embedding"
   ]
  },
  {
   "cell_type": "code",
   "execution_count": null,
   "metadata": {
    "trusted": true
   },
   "outputs": [],
   "source": [
    "df = ds\n",
    "\n",
    "df['embedding'] = df['problem'].apply(lambda x: get_aggregated_embeddings(x, model) if isinstance(x, str) else None)\n",
    "\n",
    "df.to_parquet('file_con_embeddings_con_sliding_windows.parquet')"
   ]
  },
  {
   "cell_type": "code",
   "execution_count": null,
   "metadata": {
    "trusted": true
   },
   "outputs": [],
   "source": [
    "model = SentenceTransformer('sentence-transformers/all-MiniLM-L6-v2')"
   ]
  },
  {
   "cell_type": "code",
   "execution_count": null,
   "metadata": {
    "trusted": true
   },
   "outputs": [],
   "source": [
    "def split_text_into_segments(text, max_length=256):\n",
    "    words = text.split()\n",
    "    segments = [words[i:i+max_length] for i in range(0, len(words), max_length)]\n",
    "    return [' '.join(segment) for segment in segments]\n",
    "\n",
    "def get_combined_embedding(text, model, max_length=256):\n",
    "    segments = split_text_into_segments(text, max_length)\n",
    "    embeddings = [model.encode(segment) for segment in segments]\n",
    "    combined_embedding = np.mean(embeddings, axis=0)\n",
    "    return combined_embedding\n",
    "\n",
    "ds = pd.read_parquet(\"/kaggle/input/dataset-math/dataset_math.parquet\")\n",
    "\n",
    "df = ds\n",
    "\n",
    "df['embedding'] = df['problem'].apply(lambda x: get_combined_embedding(x, model) if isinstance(x, str) else None)\n",
    "\n",
    "df.to_parquet('file_con_embeddings_senza_sliding_windows.parquet')"
   ]
  }
 ],
 "metadata": {
  "kaggle": {
   "accelerator": "none",
   "dataSources": [
    {
     "datasetId": 6836471,
     "sourceId": 10984505,
     "sourceType": "datasetVersion"
    }
   ],
   "dockerImageVersionId": 30918,
   "isGpuEnabled": false,
   "isInternetEnabled": true,
   "language": "python",
   "sourceType": "notebook"
  },
  "kernelspec": {
   "display_name": "Python 3",
   "language": "python",
   "name": "python3"
  },
  "language_info": {
   "codemirror_mode": {
    "name": "ipython",
    "version": 3
   },
   "file_extension": ".py",
   "mimetype": "text/x-python",
   "name": "python",
   "nbconvert_exporter": "python",
   "pygments_lexer": "ipython3",
   "version": "3.6.4"
  }
 },
 "nbformat": 4,
 "nbformat_minor": 4
}
